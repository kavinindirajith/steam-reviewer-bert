{
 "cells": [
  {
   "cell_type": "code",
   "execution_count": 15,
   "metadata": {},
   "outputs": [],
   "source": [
    "import requests\n",
    "import pandas as pd\n",
    "import re"
   ]
  },
  {
   "cell_type": "code",
   "execution_count": 2,
   "metadata": {},
   "outputs": [
    {
     "data": {
      "text/plain": [
       "array([1941401, 1897482, 2112761, ..., 2519630, 2519650, 2519680])"
      ]
     },
     "execution_count": 2,
     "metadata": {},
     "output_type": "execute_result"
    }
   ],
   "source": [
    "response = requests.get('https://api.steampowered.com/ISteamApps/GetAppList/v2/')\n",
    "app_ids_df = pd.DataFrame(response.json()['applist']['apps'])\n",
    "app_ids = app_ids_df['appid'].to_numpy()\n",
    "app_ids = app_ids[0:15000]"
   ]
  },
  {
   "cell_type": "code",
   "execution_count": 3,
   "metadata": {},
   "outputs": [
    {
     "name": "stdout",
     "output_type": "stream",
     "text": [
      "500 of 15000: 975 reviews\n",
      "1000 of 15000: 1795 reviews\n",
      "1500 of 15000: 2745 reviews\n",
      "2000 of 15000: 3732 reviews\n",
      "2500 of 15000: 5115 reviews\n",
      "3000 of 15000: 5952 reviews\n",
      "3500 of 15000: 7007 reviews\n",
      "4000 of 15000: 7911 reviews\n",
      "4500 of 15000: 8792 reviews\n",
      "5000 of 15000: 9753 reviews\n",
      "5500 of 15000: 10532 reviews\n",
      "6000 of 15000: 11359 reviews\n",
      "6500 of 15000: 12245 reviews\n",
      "7000 of 15000: 12920 reviews\n",
      "7500 of 15000: 13382 reviews\n",
      "8000 of 15000: 14342 reviews\n",
      "8500 of 15000: 15014 reviews\n",
      "9000 of 15000: 15915 reviews\n",
      "9500 of 15000: 16084 reviews\n",
      "10000 of 15000: 16359 reviews\n",
      "10500 of 15000: 16639 reviews\n",
      "11000 of 15000: 17206 reviews\n",
      "11500 of 15000: 17905 reviews\n",
      "12000 of 15000: 19378 reviews\n",
      "12500 of 15000: 20665 reviews\n",
      "13000 of 15000: 22633 reviews\n",
      "13500 of 15000: 24786 reviews\n",
      "14000 of 15000: 26862 reviews\n",
      "14500 of 15000: 29417 reviews\n",
      "15000 of 15000: 31760 reviews\n"
     ]
    }
   ],
   "source": [
    "def get_reviews(appid, params):\n",
    "        url_start = 'https://store.steampowered.com/appreviews/'\n",
    "        try:\n",
    "            response = requests.get(url=url_start+str(appid), params=params, headers={'User-Agent': 'Mozilla/5.0'})\n",
    "        except:\n",
    "                return {'reviews' : []}\n",
    "        return response.json() # return data extracted from the json response\n",
    "reviews = []\n",
    "cursor = '*'\n",
    "params = { # https://partner.steamgames.com/doc/store/getreviews\n",
    "    'json' : 1,\n",
    "    'filter' : 'all', # sort by: recent, updated, all (helpfullness)\n",
    "    'language' : 'english', # https://partner.steamgames.com/doc/store/localization\n",
    "    'day_range' : 9223372036854775807, # shows reviews from all time\n",
    "    'review_type' : 'all', # all, positive, negative\n",
    "    'purchase_type' : 'all', # all, non_steam_purchase, steam\n",
    "    'num_per_page' : 50,\n",
    "    'cursor' : '*'.encode()\n",
    "          }\n",
    "for i, app_id in enumerate(app_ids):\n",
    "    reviews += get_reviews(app_id, params)['reviews']\n",
    "    if (i+1)%500 == 0:\n",
    "        print(f'{i+1} of {len(app_ids)}: {len(reviews)} reviews')"
   ]
  },
  {
   "cell_type": "code",
   "execution_count": 27,
   "metadata": {},
   "outputs": [],
   "source": [
    "reviews_df = pd.DataFrame(reviews)[['review', 'voted_up']]\n",
    "reviews_df.dropna(inplace=True)\n",
    "reviews_df[\"voted_up\"] = reviews_df[\"voted_up\"].astype(int) # converts True/False to 1/0\n",
    "new_reviews = reviews_df.iloc[25000:] # slice dataset for new reviews to test later "
   ]
  },
  {
   "cell_type": "code",
   "execution_count": 28,
   "metadata": {},
   "outputs": [],
   "source": [
    "reviews_df.to_csv('~/Documents/steam-reviewer-bert/data/reviews.csv')\n",
    "new_reviews.to_csv('~/Documents/steam-reviewer-bert/data/new_reviews.csv')"
   ]
  }
 ],
 "metadata": {
  "kernelspec": {
   "display_name": "Python 3",
   "language": "python",
   "name": "python3"
  },
  "language_info": {
   "codemirror_mode": {
    "name": "ipython",
    "version": 3
   },
   "file_extension": ".py",
   "mimetype": "text/x-python",
   "name": "python",
   "nbconvert_exporter": "python",
   "pygments_lexer": "ipython3",
   "version": "3.11.9"
  }
 },
 "nbformat": 4,
 "nbformat_minor": 2
}
