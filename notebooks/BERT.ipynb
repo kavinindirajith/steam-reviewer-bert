{
 "cells": [
  {
   "cell_type": "code",
   "execution_count": 47,
   "metadata": {},
   "outputs": [],
   "source": [
    "from transformers import BertTokenizer, BertForSequenceClassification, AdamW\n",
    "from torch.utils.data import DataLoader, TensorDataset, RandomSampler\n",
    "import torch\n",
    "import pandas as pd\n",
    "import re\n",
    "from sklearn.model_selection import train_test_split\n",
    "from sklearn.metrics import accuracy_score, precision_score, recall_score, f1_score, confusion_matrix"
   ]
  },
  {
   "cell_type": "code",
   "execution_count": 39,
   "metadata": {},
   "outputs": [],
   "source": [
    "# Convert to DataFrame\n",
    "df = pd.read_csv(\"../data/reviews.csv\")\n",
    "\n",
    "reviews = df['review'].tolist()\n",
    "labels = df['voted_up'].tolist()\n",
    "\n",
    "# Split data into training and test sets\n",
    "train_texts, test_texts, train_labels, test_labels = train_test_split(reviews, labels, test_size=0.2, random_state=42)\n",
    "\n",
    "# Ensure all elements in train_texts and test_texts are strings\n",
    "train_texts = [str(text) for text in train_texts]\n",
    "test_texts = [str(text) for text in test_texts]\n",
    "\n",
    "# Clean reviews to remove unusual characters\n",
    "train_texts = [re.sub(r'[^\\x00-\\x7F]+', ' ', text) for text in train_texts]\n",
    "test_texts = [re.sub(r'[^\\x00-\\x7F]+', ' ', text) for text in test_texts]"
   ]
  },
  {
   "cell_type": "code",
   "execution_count": 40,
   "metadata": {},
   "outputs": [
    {
     "name": "stderr",
     "output_type": "stream",
     "text": [
      "Some weights of BertForSequenceClassification were not initialized from the model checkpoint at bert-base-uncased and are newly initialized: ['classifier.bias', 'classifier.weight']\n",
      "You should probably TRAIN this model on a down-stream task to be able to use it for predictions and inference.\n",
      "/opt/homebrew/anaconda3/lib/python3.11/site-packages/transformers/optimization.py:591: FutureWarning: This implementation of AdamW is deprecated and will be removed in a future version. Use the PyTorch implementation torch.optim.AdamW instead, or set `no_deprecation_warning=True` to disable this warning\n",
      "  warnings.warn(\n"
     ]
    }
   ],
   "source": [
    "# Check if the device supports MPS (Metal Performance Shaders) for Apple Silicon or fallback to CPU\n",
    "device = torch.device(\"mps\" if torch.backends.mps.is_available() else \"cpu\")\n",
    "\n",
    "# Load BERT tokenizer and pre-trained model for sequence classification (binary classification)\n",
    "tokenizer = BertTokenizer.from_pretrained('bert-base-uncased')\n",
    "model = BertForSequenceClassification.from_pretrained('bert-base-uncased', num_labels=2)\n",
    "model.to(device)\n",
    "\n",
    "# Tokenize the training and test texts\n",
    "train_encodings = tokenizer(\n",
    "    train_texts, \n",
    "    truncation=True, \n",
    "    padding=True, \n",
    "    max_length=128, \n",
    "    return_tensors='pt'\n",
    ")\n",
    "test_encodings = tokenizer(\n",
    "    test_texts, \n",
    "    truncation=True, \n",
    "    padding=True, \n",
    "    max_length=128, \n",
    "    return_tensors='pt'\n",
    ")\n",
    "# Convert encodings and labels to TensorDatasets\n",
    "train_dataset = TensorDataset(train_encodings['input_ids'], train_encodings['attention_mask'], torch.tensor(train_labels))\n",
    "test_dataset = TensorDataset(test_encodings['input_ids'], test_encodings['attention_mask'], torch.tensor(test_labels))\n",
    "\n",
    "# Create DataLoader for training and test sets\n",
    "train_dataloader = DataLoader(train_dataset, sampler=RandomSampler(train_dataset), batch_size=8)\n",
    "test_dataloader = DataLoader(test_dataset, batch_size=8)\n",
    "\n",
    "# Set up optimizer with weight decay\n",
    "optimizer = AdamW(model.parameters(), lr=2e-5)"
   ]
  },
  {
   "cell_type": "code",
   "execution_count": 42,
   "metadata": {},
   "outputs": [
    {
     "name": "stdout",
     "output_type": "stream",
     "text": [
      "Epoch 1/3, Loss: 0.2030\n",
      "Epoch 2/3, Loss: 0.1156\n",
      "Epoch 3/3, Loss: 0.0591\n"
     ]
    },
    {
     "data": {
      "text/plain": [
       "('../model/fine_tuned_bert_reviews/tokenizer_config.json',\n",
       " '../model/fine_tuned_bert_reviews/special_tokens_map.json',\n",
       " '../model/fine_tuned_bert_reviews/vocab.txt',\n",
       " '../model/fine_tuned_bert_reviews/added_tokens.json')"
      ]
     },
     "execution_count": 42,
     "metadata": {},
     "output_type": "execute_result"
    }
   ],
   "source": [
    "# # Training the BERT model for 3 epochs\n",
    "# epochs = 3\n",
    "# model.train()\n",
    "# for epoch in range(epochs):\n",
    "#     model.train()\n",
    "#     total_loss = 0\n",
    "#     for batch in train_dataloader:\n",
    "#         # Unpack the batch and move tensors to device\n",
    "#         batch_input_ids, batch_attention_mask, batch_labels = [x.to(device) for x in batch]\n",
    "\n",
    "#         # Zero gradients\n",
    "#         optimizer.zero_grad()\n",
    "\n",
    "#         # Forward pass\n",
    "#         outputs = model(input_ids=batch_input_ids, attention_mask=batch_attention_mask, labels=batch_labels)\n",
    "\n",
    "#         # Loss is automatically computed by the model when `labels` are provided\n",
    "#         loss = outputs.loss\n",
    "\n",
    "#         # Backward pass and optimization step\n",
    "#         loss.backward()\n",
    "#         optimizer.step()\n",
    "\n",
    "#         total_loss += loss.item()\n",
    "\n",
    "#     print(f\"Epoch {epoch + 1}/{epochs}, Loss: {total_loss / len(train_dataloader):.4f}\")\n",
    "\n",
    "# # Save the fine-tuned model and tokenizer\n",
    "# model.save_pretrained('../model/fine_tuned_bert_reviews')\n",
    "# tokenizer.save_pretrained('../model/fine_tuned_bert_reviews')\n"
   ]
  },
  {
   "cell_type": "code",
   "execution_count": 44,
   "metadata": {},
   "outputs": [
    {
     "name": "stdout",
     "output_type": "stream",
     "text": [
      "Accuracy: 0.93\n",
      "Precision: 0.95\n",
      "Recall: 0.97\n",
      "F1-Score: 0.96\n"
     ]
    }
   ],
   "source": [
    "# Evaluate the model on the test set\n",
    "model.eval()  # Set model to evaluation mode\n",
    "\n",
    "# Store predictions and true labels\n",
    "predictions, true_labels = [], []\n",
    "\n",
    "# No need to compute gradients during evaluation\n",
    "with torch.no_grad():\n",
    "    for batch in test_dataloader:\n",
    "        # Unpack the batch and move tensors to device\n",
    "        batch_input_ids, batch_attention_mask, batch_labels = [x.to(device) for x in batch]\n",
    "\n",
    "        # Forward pass\n",
    "        outputs = model(input_ids=batch_input_ids, attention_mask=batch_attention_mask)\n",
    "        logits = outputs.logits\n",
    "\n",
    "        # Get predictions and store them\n",
    "        preds = torch.argmax(logits, dim=-1).cpu().numpy()\n",
    "        label_ids = batch_labels.cpu().numpy()\n",
    "\n",
    "        # Append results for comparison\n",
    "        predictions.extend(preds)\n",
    "        true_labels.extend(label_ids)"
   ]
  },
  {
   "cell_type": "code",
   "execution_count": 48,
   "metadata": {},
   "outputs": [
    {
     "name": "stdout",
     "output_type": "stream",
     "text": [
      "Accuracy: 0.93\n",
      "Precision: 0.95\n",
      "Recall: 0.97\n",
      "F1-Score: 0.96\n",
      "Confusion Matrix:\n",
      "[[ 836  288]\n",
      " [ 161 5067]]\n"
     ]
    }
   ],
   "source": [
    "# Calculate various metrics\n",
    "accuracy = accuracy_score(true_labels, predictions)\n",
    "precision = precision_score(true_labels, predictions)\n",
    "recall = recall_score(true_labels, predictions)\n",
    "f1 = f1_score(true_labels, predictions)\n",
    "conf_matrix = confusion_matrix(true_labels, predictions)\n",
    "\n",
    "print(f\"Accuracy: {accuracy:.2f}\")\n",
    "print(f\"Precision: {precision:.2f}\")\n",
    "print(f\"Recall: {recall:.2f}\")\n",
    "print(f\"F1-Score: {f1:.2f}\")\n",
    "print(f\"Confusion Matrix:\\n{conf_matrix}\")"
   ]
  }
 ],
 "metadata": {
  "kernelspec": {
   "display_name": "Python 3",
   "language": "python",
   "name": "python3"
  },
  "language_info": {
   "codemirror_mode": {
    "name": "ipython",
    "version": 3
   },
   "file_extension": ".py",
   "mimetype": "text/x-python",
   "name": "python",
   "nbconvert_exporter": "python",
   "pygments_lexer": "ipython3",
   "version": "3.11.9"
  }
 },
 "nbformat": 4,
 "nbformat_minor": 2
}
